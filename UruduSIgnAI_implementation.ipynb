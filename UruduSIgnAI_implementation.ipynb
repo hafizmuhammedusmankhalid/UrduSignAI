{
 "cells": [
  {
   "cell_type": "code",
   "execution_count": 1,
   "id": "c2076a43",
   "metadata": {},
   "outputs": [],
   "source": [
    "import pandas as pd\n",
    "import numpy as np \n",
    "import itertools\n",
    "import keras\n",
    "from sklearn import metrics\n",
    "from sklearn.metrics import confusion_matrix\n",
    "from keras.preprocessing.image import ImageDataGenerator, img_to_array, load_img \n",
    "from keras.models import Sequential \n",
    "from keras import optimizers\n",
    "from keras.preprocessing import image\n",
    "from keras.layers import Dropout, Flatten, Dense \n",
    "from keras import applications \n",
    "from keras.utils.np_utils import to_categorical \n",
    "import matplotlib.pyplot as plt \n",
    "import matplotlib.image as mpimg\n",
    "%matplotlib inline\n",
    "import math \n",
    "import datetime\n",
    "import time"
   ]
  },
  {
   "cell_type": "code",
   "execution_count": 2,
   "id": "fd82e53b",
   "metadata": {},
   "outputs": [],
   "source": [
    "#Default dimensions we found online\n",
    "img_width, img_height = 224, 224 \n",
    " \n",
    "#Create a bottleneck file\n",
    "top_model_weights_path = r'C:\\Users\\hafiz\\Pakistan Sign Language Project\\VGG_16_Weights'\n",
    "# loading up our datasets\n",
    "train_data_dir = r'C:\\Users\\hafiz\\Pakistan Sign Language Project\\PSL (Augmented Dataset)\\train' \n",
    "validation_data_dir = r'C:\\Users\\hafiz\\Pakistan Sign Language Project\\PSL (Augmented Dataset)\\validation' \n",
    "test_data_dir = r'C:\\Users\\hafiz\\Pakistan Sign Language Project\\PSL (Augmented Dataset)\\test'\n",
    " \n",
    "# number of epochs to train top model \n",
    "epochs = 25 #this has been changed after multiple model run \n",
    "# batch size used by flow_from_directory and predict_generator \n",
    "batch_size = 50 "
   ]
  },
  {
   "cell_type": "code",
   "execution_count": 3,
   "id": "e6eea331",
   "metadata": {},
   "outputs": [],
   "source": [
    "#Loading vgc16 model\n",
    "vgg16 = applications.VGG16(include_top=False, weights='imagenet')\n",
    "datagen = ImageDataGenerator(rescale=1. / 255) \n",
    "#needed to create the bottleneck .npy files"
   ]
  },
  {
   "cell_type": "code",
   "execution_count": 6,
   "id": "7c1acea6",
   "metadata": {},
   "outputs": [
    {
     "name": "stdout",
     "output_type": "stream",
     "text": [
      "Found 18864 images belonging to 36 classes.\n"
     ]
    },
    {
     "name": "stderr",
     "output_type": "stream",
     "text": [
      "C:\\Users\\hafiz\\anaconda3\\lib\\site-packages\\tensorflow\\python\\keras\\engine\\training.py:2030: UserWarning: `Model.predict_generator` is deprecated and will be removed in a future version. Please use `Model.predict`, which supports generators.\n",
      "  warnings.warn('`Model.predict_generator` is deprecated and '\n"
     ]
    },
    {
     "name": "stdout",
     "output_type": "stream",
     "text": [
      "Time:  1:19:25.350208\n"
     ]
    }
   ],
   "source": [
    "#__this can take an hour and half to run so only run it once. \n",
    "#once the npy files have been created, no need to run again. Convert this cell to a code cell to run.__\n",
    "start = datetime.datetime.now()\n",
    " \n",
    "generator = datagen.flow_from_directory( \n",
    "    train_data_dir, \n",
    "    target_size=(img_width, img_height), \n",
    "    batch_size=batch_size, \n",
    "    class_mode=None, \n",
    "    shuffle=False) \n",
    " \n",
    "nb_train_samples = len(generator.filenames) \n",
    "num_classes = len(generator.class_indices) \n",
    " \n",
    "predict_size_train = int(math.ceil(nb_train_samples / batch_size)) \n",
    " \n",
    "bottleneck_features_train = vgg16.predict_generator(generator, predict_size_train) \n",
    " \n",
    "np.save(r'C:\\Users\\hafiz\\Pakistan Sign Language Project\\VGG_16_Weights\\bottleneck_features_train.npy', bottleneck_features_train)\n",
    "end= datetime.datetime.now()\n",
    "elapsed= end-start\n",
    "print ('Time: ', elapsed)"
   ]
  },
  {
   "cell_type": "code",
   "execution_count": 7,
   "id": "c3103460",
   "metadata": {},
   "outputs": [
    {
     "name": "stdout",
     "output_type": "stream",
     "text": [
      "Found 1656 images belonging to 36 classes.\n",
      "Time:  0:07:49.173565\n"
     ]
    }
   ],
   "source": [
    "#__this can take an hour and half to run so only run it once. \n",
    "#once the npy files have been created, no need to run again. Convert this cell to a code cell to run.__\n",
    "start = datetime.datetime.now()\n",
    " \n",
    "generator = datagen.flow_from_directory( \n",
    "    test_data_dir, \n",
    "    target_size=(img_width, img_height), \n",
    "    batch_size=batch_size, \n",
    "    class_mode=None, \n",
    "    shuffle=False) \n",
    " \n",
    "nb_test_samples = len(generator.filenames) \n",
    "num_classes = len(generator.class_indices) \n",
    " \n",
    "predict_size_test = int(math.ceil(nb_test_samples / batch_size)) \n",
    " \n",
    "bottleneck_features_test = vgg16.predict_generator(generator, predict_size_test) \n",
    " \n",
    "np.save(r'C:\\Users\\hafiz\\Pakistan Sign Language Project\\VGG_16_Weights\\bottleneck_features_test.npy', bottleneck_features_test)\n",
    "end= datetime.datetime.now()\n",
    "elapsed= end-start\n",
    "print ('Time: ', elapsed)"
   ]
  },
  {
   "cell_type": "code",
   "execution_count": 4,
   "id": "d78412f5",
   "metadata": {},
   "outputs": [
    {
     "name": "stdout",
     "output_type": "stream",
     "text": [
      "Found 1656 images belonging to 36 classes.\n"
     ]
    },
    {
     "name": "stderr",
     "output_type": "stream",
     "text": [
      "C:\\Users\\hafiz\\anaconda3\\lib\\site-packages\\tensorflow\\python\\keras\\engine\\training.py:2030: UserWarning: `Model.predict_generator` is deprecated and will be removed in a future version. Please use `Model.predict`, which supports generators.\n",
      "  warnings.warn('`Model.predict_generator` is deprecated and '\n"
     ]
    },
    {
     "name": "stdout",
     "output_type": "stream",
     "text": [
      "Time:  0:06:59.738821\n"
     ]
    }
   ],
   "source": [
    "#__this can take an hour and half to run so only run it once. \n",
    "#once the npy files have been created, no need to run again. Convert this cell to a code cell to run.__\n",
    "start = datetime.datetime.now()\n",
    " \n",
    "generator = datagen.flow_from_directory( \n",
    "    validation_data_dir, \n",
    "    target_size=(img_width, img_height), \n",
    "    batch_size=batch_size, \n",
    "    class_mode=None, \n",
    "    shuffle=False) \n",
    " \n",
    "nb_validation_samples = len(generator.filenames) \n",
    "num_classes = len(generator.class_indices) \n",
    " \n",
    "predict_size_validation = int(math.ceil(nb_validation_samples / batch_size)) \n",
    " \n",
    "bottleneck_features_validation = vgg16.predict_generator(generator, predict_size_validation) \n",
    " \n",
    "np.save(r'C:\\Users\\hafiz\\Pakistan Sign Language Project\\VGG_16_Weights\\bottleneck_features_validation.npy', bottleneck_features_validation)\n",
    "end= datetime.datetime.now()\n",
    "elapsed= end-start\n",
    "print ('Time: ', elapsed)"
   ]
  },
  {
   "cell_type": "markdown",
   "id": "eedf2928",
   "metadata": {},
   "source": [
    "## Loading of Features"
   ]
  },
  {
   "cell_type": "code",
   "execution_count": 4,
   "id": "951cab8c",
   "metadata": {},
   "outputs": [
    {
     "name": "stdout",
     "output_type": "stream",
     "text": [
      "Found 18864 images belonging to 36 classes.\n"
     ]
    }
   ],
   "source": [
    "#training data\n",
    "generator_top = datagen.flow_from_directory( \n",
    "   train_data_dir, \n",
    "   target_size=(img_width, img_height), \n",
    "   batch_size=batch_size, \n",
    "   class_mode='categorical', \n",
    "   shuffle=False) \n",
    " \n",
    "nb_train_samples = len(generator_top.filenames) \n",
    "num_classes = len(generator_top.class_indices) \n",
    " \n",
    "# load the bottleneck features saved earlier \n",
    "train_data = np.load(r'C:\\Users\\hafiz\\Pakistan Sign Language Project\\VGG_16_Weights\\bottleneck_features_train.npy') \n",
    " \n",
    "# get the class labels for the training data, in the original order \n",
    "train_labels = generator_top.classes \n",
    " \n",
    "# convert the training labels to categorical vectors \n",
    "train_labels = to_categorical(train_labels, num_classes=num_classes)"
   ]
  },
  {
   "cell_type": "code",
   "execution_count": 5,
   "id": "7f6922be",
   "metadata": {},
   "outputs": [
    {
     "name": "stdout",
     "output_type": "stream",
     "text": [
      "Found 1656 images belonging to 36 classes.\n"
     ]
    }
   ],
   "source": [
    "#training data\n",
    "generator_top = datagen.flow_from_directory( \n",
    "   test_data_dir, \n",
    "   target_size=(img_width, img_height), \n",
    "   batch_size=batch_size, \n",
    "   class_mode='categorical', \n",
    "   shuffle=False) \n",
    " \n",
    "nb_test_samples = len(generator_top.filenames) \n",
    "num_classes = len(generator_top.class_indices) \n",
    " \n",
    "# load the bottleneck features saved earlier \n",
    "test_data = np.load(r'C:\\Users\\hafiz\\Pakistan Sign Language Project\\VGG_16_Weights\\bottleneck_features_test.npy') \n",
    " \n",
    "# get the class labels for the training data, in the original order \n",
    "test_labels = generator_top.classes \n",
    "# convert the training labels to categorical vectors \n",
    "test_labels = to_categorical(test_labels, num_classes=num_classes)"
   ]
  },
  {
   "cell_type": "code",
   "execution_count": 6,
   "id": "ddb09206",
   "metadata": {},
   "outputs": [
    {
     "name": "stdout",
     "output_type": "stream",
     "text": [
      "Found 1656 images belonging to 36 classes.\n"
     ]
    }
   ],
   "source": [
    "#training data\n",
    "generator_top = datagen.flow_from_directory( \n",
    "   validation_data_dir, \n",
    "   target_size=(img_width, img_height), \n",
    "   batch_size=batch_size, \n",
    "   class_mode='categorical', \n",
    "   shuffle=False) \n",
    " \n",
    "nb_validation_samples = len(generator_top.filenames) \n",
    "num_classes = len(generator_top.class_indices) \n",
    " \n",
    "# load the bottleneck features saved earlier \n",
    "validation_data = np.load(r'C:\\Users\\hafiz\\Pakistan Sign Language Project\\VGG_16_Weights\\bottleneck_features_validation.npy') \n",
    " \n",
    "# get the class labels for the training data, in the original order \n",
    "validation_labels = generator_top.classes \n",
    " \n",
    "# convert the training labels to categorical vectors \n",
    "validation_labels = to_categorical(validation_labels, num_classes=num_classes)"
   ]
  },
  {
   "cell_type": "code",
   "execution_count": 8,
   "id": "647087e0",
   "metadata": {
    "scrolled": true
   },
   "outputs": [
    {
     "name": "stderr",
     "output_type": "stream",
     "text": [
      "C:\\Users\\hafiz\\anaconda3\\lib\\site-packages\\tensorflow\\python\\keras\\optimizer_v2\\optimizer_v2.py:374: UserWarning: The `lr` argument is deprecated, use `learning_rate` instead.\n",
      "  warnings.warn(\n"
     ]
    },
    {
     "name": "stdout",
     "output_type": "stream",
     "text": [
      "Epoch 1/25\n",
      "378/378 [==============================] - 12s 31ms/step - loss: 1.6356 - acc: 0.6080 - val_loss: 0.3744 - val_acc: 0.9565\n",
      "Epoch 2/25\n",
      "378/378 [==============================] - 10s 26ms/step - loss: 0.5302 - acc: 0.8827 - val_loss: 0.1541 - val_acc: 0.9777\n",
      "Epoch 3/25\n",
      "378/378 [==============================] - 9s 24ms/step - loss: 0.3034 - acc: 0.9322 - val_loss: 0.0861 - val_acc: 0.9867\n",
      "Epoch 4/25\n",
      "378/378 [==============================] - 10s 26ms/step - loss: 0.2018 - acc: 0.9540 - val_loss: 0.0558 - val_acc: 0.9897\n",
      "Epoch 5/25\n",
      "378/378 [==============================] - 10s 26ms/step - loss: 0.1443 - acc: 0.9667 - val_loss: 0.0370 - val_acc: 0.9928\n",
      "Epoch 6/25\n",
      "378/378 [==============================] - 10s 26ms/step - loss: 0.1093 - acc: 0.9751 - val_loss: 0.0267 - val_acc: 0.9952\n",
      "Epoch 7/25\n",
      "378/378 [==============================] - 10s 27ms/step - loss: 0.0906 - acc: 0.9769 - val_loss: 0.0250 - val_acc: 0.9934\n",
      "Epoch 8/25\n",
      "378/378 [==============================] - 10s 26ms/step - loss: 0.0747 - acc: 0.9811 - val_loss: 0.0205 - val_acc: 0.9952\n",
      "Epoch 9/25\n",
      "378/378 [==============================] - 10s 26ms/step - loss: 0.0571 - acc: 0.9865 - val_loss: 0.0154 - val_acc: 0.9958\n",
      "Epoch 10/25\n",
      "378/378 [==============================] - 10s 26ms/step - loss: 0.0524 - acc: 0.9871 - val_loss: 0.0151 - val_acc: 0.9952\n",
      "Epoch 11/25\n",
      "378/378 [==============================] - 10s 26ms/step - loss: 0.0456 - acc: 0.9884 - val_loss: 0.0111 - val_acc: 0.9982\n",
      "Epoch 12/25\n",
      "378/378 [==============================] - 10s 26ms/step - loss: 0.0402 - acc: 0.9895 - val_loss: 0.0135 - val_acc: 0.9958\n",
      "Epoch 13/25\n",
      "378/378 [==============================] - 10s 27ms/step - loss: 0.0354 - acc: 0.9908 - val_loss: 0.0105 - val_acc: 0.9988\n",
      "Epoch 14/25\n",
      "378/378 [==============================] - 10s 26ms/step - loss: 0.0310 - acc: 0.9923 - val_loss: 0.0103 - val_acc: 0.9976\n",
      "Epoch 15/25\n",
      "378/378 [==============================] - 10s 26ms/step - loss: 0.0304 - acc: 0.9918 - val_loss: 0.0090 - val_acc: 0.9964\n",
      "Epoch 16/25\n",
      "378/378 [==============================] - 10s 26ms/step - loss: 0.0247 - acc: 0.9944 - val_loss: 0.0086 - val_acc: 0.9970\n",
      "Epoch 17/25\n",
      "378/378 [==============================] - 10s 27ms/step - loss: 0.0241 - acc: 0.9941 - val_loss: 0.0095 - val_acc: 0.9952\n",
      "Epoch 18/25\n",
      "378/378 [==============================] - 10s 27ms/step - loss: 0.0212 - acc: 0.9942 - val_loss: 0.0078 - val_acc: 0.9982\n",
      "Epoch 19/25\n",
      "378/378 [==============================] - 10s 27ms/step - loss: 0.0215 - acc: 0.9937 - val_loss: 0.0097 - val_acc: 0.9964\n",
      "Epoch 20/25\n",
      "378/378 [==============================] - 10s 27ms/step - loss: 0.0206 - acc: 0.9946 - val_loss: 0.0079 - val_acc: 0.9982\n",
      "Epoch 21/25\n",
      "378/378 [==============================] - 10s 26ms/step - loss: 0.0185 - acc: 0.9946 - val_loss: 0.0067 - val_acc: 0.9982\n",
      "Epoch 22/25\n",
      "378/378 [==============================] - 10s 26ms/step - loss: 0.0153 - acc: 0.9959 - val_loss: 0.0083 - val_acc: 0.9982\n",
      "Epoch 23/25\n",
      "378/378 [==============================] - 10s 27ms/step - loss: 0.0158 - acc: 0.9959 - val_loss: 0.0086 - val_acc: 0.9970\n",
      "Epoch 24/25\n",
      "378/378 [==============================] - 10s 26ms/step - loss: 0.0141 - acc: 0.9963 - val_loss: 0.0068 - val_acc: 0.9970\n",
      "Epoch 25/25\n",
      "378/378 [==============================] - 10s 27ms/step - loss: 0.0145 - acc: 0.9958 - val_loss: 0.0083 - val_acc: 0.9970\n",
      "34/34 [==============================] - 0s 6ms/step - loss: 0.0083 - acc: 0.9970\n",
      "[INFO] accuracy: 99.70%\n",
      "[INFO] Loss: 0.008337999694049358\n",
      "Time:  0:04:11.622562\n"
     ]
    }
   ],
   "source": [
    "#This is the best model we found. For additional models, check out I_notebook.ipynb\n",
    "start = datetime.datetime.now()\n",
    "model = Sequential() \n",
    "model.add(Flatten(input_shape=train_data.shape[1:])) \n",
    "model.add(Dense(100, activation=keras.layers.LeakyReLU(alpha=0.3))) \n",
    "model.add(Dropout(0.5)) \n",
    "model.add(Dense(50, activation=keras.layers.LeakyReLU(alpha=0.3))) \n",
    "model.add(Dropout(0.3)) \n",
    "model.add(Dense(num_classes, activation='softmax'))\n",
    "model.compile(loss='categorical_crossentropy',\n",
    "   optimizer=optimizers.RMSprop(lr=1e-4),\n",
    "   metrics=['acc'])\n",
    "history = model.fit(train_data, train_labels, \n",
    "   epochs=25,\n",
    "   batch_size=batch_size, \n",
    "   validation_data=(validation_data, validation_labels))\n",
    "model.save_weights(top_model_weights_path)\n",
    "(eval_loss, eval_accuracy) = model.evaluate( \n",
    "    validation_data, validation_labels, batch_size=batch_size,     verbose=1)\n",
    "print(\"[INFO] accuracy: {:.2f}%\".format(eval_accuracy * 100)) \n",
    "print(\"[INFO] Loss: {}\".format(eval_loss)) \n",
    "end= datetime.datetime.now()\n",
    "elapsed= end-start\n",
    "print ('Time: ', elapsed)"
   ]
  },
  {
   "cell_type": "code",
   "execution_count": 9,
   "id": "ce5a16b0",
   "metadata": {
    "scrolled": true
   },
   "outputs": [
    {
     "data": {
      "image/png": "[encoded data removed]",
      "text/plain": [
       "<Figure size 432x288 with 1 Axes>"
      ]
     },
     "metadata": {
      "needs_background": "light"
     },
     "output_type": "display_data"
    },
    {
     "data": {
      "image/png": "[encoded data removed]",
      "text/plain": [
       "<Figure size 432x288 with 1 Axes>"
      ]
     },
     "metadata": {
      "needs_background": "light"
     },
     "output_type": "display_data"
    }
   ],
   "source": [
    "#Graphing our training and validation\n",
    "acc = history.history['acc']\n",
    "val_acc = history.history['val_acc']\n",
    "loss = history.history['loss']\n",
    "val_loss = history.history['val_loss']\n",
    "epochs = range(len(acc))\n",
    "plt.plot(epochs, acc, 'r', label = 'Training acc')\n",
    "plt.plot(epochs, val_acc, 'b', label = 'Validation acc')\n",
    "plt.title('Training and validation accuracy')\n",
    "plt.ylabel('accuracy') \n",
    "plt.xlabel('epoch')\n",
    "plt.legend()\n",
    "plt.figure()\n",
    "plt.plot(epochs, loss, 'r', label = 'Training loss')\n",
    "plt.plot(epochs, val_loss, 'b', label = 'Validation loss')\n",
    "plt.title('Training and validation loss')\n",
    "plt.ylabel('loss') \n",
    "plt.xlabel('epoch')\n",
    "plt.legend()\n",
    "plt.show()"
   ]
  },
  {
   "cell_type": "code",
   "execution_count": 10,
   "id": "68090d45",
   "metadata": {},
   "outputs": [
    {
     "name": "stdout",
     "output_type": "stream",
     "text": [
      "1656\n",
      "1656\n",
      "52/52 [==============================] - 0s 5ms/step - loss: 0.0138 - acc: 0.9976\n"
     ]
    },
    {
     "data": {
      "text/plain": [
       "[0.013821319676935673, 0.9975845217704773]"
      ]
     },
     "execution_count": 10,
     "metadata": {},
     "output_type": "execute_result"
    }
   ],
   "source": [
    "print(len(test_data))\n",
    "print(len(test_labels))\n",
    "model.evaluate(test_data, test_labels)"
   ]
  },
  {
   "cell_type": "code",
   "execution_count": 11,
   "id": "4c9f9827",
   "metadata": {},
   "outputs": [
    {
     "name": "stdout",
     "output_type": "stream",
     "text": [
      "rounded test labels:  [[1. 0. 0. ... 0. 0. 0.]\n",
      " [1. 0. 0. ... 0. 0. 0.]\n",
      " [1. 0. 0. ... 0. 0. 0.]\n",
      " ...\n",
      " [0. 0. 0. ... 0. 0. 1.]\n",
      " [0. 0. 0. ... 0. 0. 1.]\n",
      " [0. 0. 0. ... 0. 0. 1.]]\n"
     ]
    }
   ],
   "source": [
    "preds = np.round(model.predict(test_data), 0)\n",
    "print('rounded test labels: ', preds)"
   ]
  },
  {
   "cell_type": "code",
   "execution_count": 12,
   "id": "6cef5a1f",
   "metadata": {
    "scrolled": true
   },
   "outputs": [
    {
     "name": "stdout",
     "output_type": "stream",
     "text": [
      "                precision    recall  f1-score   support\n",
      "\n",
      "           AIN       1.00      1.00      1.00        46\n",
      "          ALIF       1.00      1.00      1.00        46\n",
      "            BA       1.00      1.00      1.00        46\n",
      "   BAARI_YAAAY       1.00      1.00      1.00        46\n",
      "        CHAAAY       0.98      1.00      0.99        46\n",
      "     CHOTI-YAY       1.00      1.00      1.00        46\n",
      "          DAAL       1.00      1.00      1.00        46\n",
      "        DDAAAL       1.00      1.00      1.00        46\n",
      "DO-CHASHMI-HAY       1.00      1.00      1.00        46\n",
      "          FAAA       1.00      1.00      1.00        46\n",
      "          GAAF       1.00      1.00      1.00        46\n",
      "         GHAIN       1.00      0.98      0.99        46\n",
      "         HAMZA       1.00      1.00      1.00        46\n",
      "           HAY       1.00      0.98      0.99        46\n",
      "           KAF       1.00      1.00      1.00        46\n",
      "          KHAY       1.00      1.00      1.00        46\n",
      "          LAAM       1.00      1.00      1.00        46\n",
      "           MIM       1.00      1.00      1.00        46\n",
      "           NUN       1.00      1.00      1.00        46\n",
      "   NUN-GHUNNAH       1.00      1.00      1.00        46\n",
      "            PA       1.00      1.00      1.00        46\n",
      "           QAF       1.00      1.00      1.00        46\n",
      "           RAY       1.00      0.98      0.99        46\n",
      "            SA       1.00      0.98      0.99        46\n",
      "          SAAL       0.98      1.00      0.99        46\n",
      "          SHIN       1.00      1.00      1.00        46\n",
      "           SIN       1.00      1.00      1.00        46\n",
      "          SUAD       1.00      1.00      1.00        46\n",
      "           TAY       0.98      1.00      0.99        46\n",
      "        TAYTAY       1.00      1.00      1.00        46\n",
      "           TOE       1.00      1.00      1.00        46\n",
      "           WAO       0.98      1.00      0.99        46\n",
      "          ZAAL       1.00      1.00      1.00        46\n",
      "          ZAAY       1.00      1.00      1.00        46\n",
      "           ZOE       1.00      1.00      1.00        46\n",
      "          ZUAD       1.00      1.00      1.00        46\n",
      "\n",
      "     micro avg       1.00      1.00      1.00      1656\n",
      "     macro avg       1.00      1.00      1.00      1656\n",
      "  weighted avg       1.00      1.00      1.00      1656\n",
      "   samples avg       1.00      1.00      1.00      1656\n",
      "\n"
     ]
    }
   ],
   "source": [
    "classes = ['AIN', 'ALIF', 'BA', 'BAARI_YAAAY', 'CHAAAY', 'CHOTI-YAY', 'DAAL', 'DDAAAL', 'DO-CHASHMI-HAY', 'FAAA', 'GAAF', 'GHAIN', 'HAMZA', 'HAY', 'KAF', 'KHAY', 'LAAM', 'MIM', 'NUN', 'NUN-GHUNNAH', 'PA', 'QAF', 'RAY', 'SA', 'SAAL', 'SHIN', 'SIN', 'SUAD', 'TAY', 'TAYTAY', 'TOE', 'WAO', 'ZAAL', 'ZAAY', 'ZOE', 'ZUAD']\n",
    "classification_metrics = metrics.classification_report(test_labels, preds, target_names = classes)\n",
    "print(classification_metrics)"
   ]
  },
  {
   "cell_type": "code",
   "execution_count": 13,
   "id": "2a9313a2",
   "metadata": {},
   "outputs": [],
   "source": [
    "#Since our data is in dummy format we put the numpy array into a dataframe and call idxmax axis=1 to return the column\n",
    "# label of the maximum value thus creating a categorical variable\n",
    "#Basically, flipping a dummy variable back to it’s categorical variable\n",
    "categorical_test_labels = pd.DataFrame(test_labels).idxmax(axis=1)\n",
    "categorical_preds = pd.DataFrame(preds).idxmax(axis=1)\n",
    "confusion_matrix= confusion_matrix(categorical_test_labels, categorical_preds)\n",
    "\n",
    "#To get better visual of the confusion matrix:\n",
    "def plot_confusion_matrix(cm, classes, normalize=False, title='Confusion matrix', cmap=plt.cm.Blues):\n",
    " \n",
    "    if normalize:\n",
    "        cm = cm.astype('float') / cm.sum(axis=1)[:, np.newaxis]\n",
    "        print(\"Normalized confusion matrix\")\n",
    "    else:\n",
    "        print('Confusion matrix, without normalization')\n",
    "\n",
    "    plt.imshow(cm, interpolation='nearest', cmap=cmap)\n",
    "    plt.title(title)\n",
    "    plt.colorbar()\n",
    "    tick_marks = np.arange(len(classes))\n",
    "    plt.xticks(tick_marks, classes, rotation=45)\n",
    "    plt.yticks(tick_marks, classes)\n",
    "\n",
    "    fmt = '.2f' if normalize else 'd'\n",
    "    thresh = cm.max() / 2.\n",
    "    for i, j in itertools.product(range(cm.shape[0]), range(cm.shape[1])):\n",
    "        plt.text(j, i, format(cm[i, j], fmt), horizontalalignment=\"center\", color=\"white\" if cm[i, j] > thresh else \"black\")\n",
    "\n",
    "    plt.tight_layout()\n",
    "    plt.ylabel('True label')\n",
    "    plt.xlabel('Predicted label') "
   ]
  },
  {
   "cell_type": "code",
   "execution_count": 14,
   "id": "ed41e5ba",
   "metadata": {},
   "outputs": [
    {
     "name": "stdout",
     "output_type": "stream",
     "text": [
      "Normalized confusion matrix\n"
     ]
    },
    {
     "data": {
      "image/png": "[encoded data removed]",
      "text/plain": [
       "<Figure size 432x288 with 2 Axes>"
      ]
     },
     "metadata": {
      "needs_background": "light"
     },
     "output_type": "display_data"
    }
   ],
   "source": [
    "plot_confusion_matrix(confusion_matrix, ['AIN', 'ALIF', 'BA', 'BAARI_YAAAY', 'CHAAAY', 'CHOTI-YAY', 'DAAL', 'DDAAAL', 'DO-CHASHMI-HAY', 'FAAA', 'GAAF', 'GHAIN', 'HAMZA', 'HAY', 'KAF', 'KHAY', 'LAAM', 'MIM', 'NUN', 'NUN-GHUNNAH', 'PA', 'QAF', 'RAY', 'SA', 'SAAL', 'SHIN', 'SIN', 'SUAD', 'TAY', 'TAYTAY', 'TOE', 'WAO', 'ZAAL', 'ZAAY', 'ZOE', 'ZUAD'], normalize = True)"
   ]
  },
  {
   "cell_type": "code",
   "execution_count": 24,
   "id": "697214bb",
   "metadata": {},
   "outputs": [
    {
     "name": "stdout",
     "output_type": "stream",
     "text": [
      "[INFO] loading and preprocessing image…\n",
      "ID: 0, Label: AIN 100.0%\n",
      "ID: 1, Label: ALIF 0.0%\n",
      "ID: 2, Label: BA 0.0%\n",
      "ID: 3, Label: BAARI_YAAAY 0.0%\n",
      "ID: 4, Label: CHAAAY 0.0%\n",
      "ID: 5, Label: CHOTI-YAY 0.0%\n",
      "Final Decision:\n",
      ".\n",
      "..\n",
      "...\n",
      "ID: 0, Label: AIN\n"
     ]
    },
    {
     "data": {
      "image/png": "[encoded data removed]",
      "text/plain": [
       "<PIL.Image.Image image mode=RGB size=291x191 at 0x1F744C261C0>"
      ]
     },
     "execution_count": 24,
     "metadata": {},
     "output_type": "execute_result"
    }
   ],
   "source": [
    "def read_image(file_path):\n",
    "    print(\"[INFO] loading and preprocessing image…\") \n",
    "    image = load_img(file_path, target_size=(224, 224)) \n",
    "    image = img_to_array(image) \n",
    "    image = np.expand_dims(image, axis=0)\n",
    "    image /= 255. \n",
    "    return image\n",
    "def test_single_image(path):\n",
    "    classes = ['AIN', 'ALIF', 'BA', 'BAARI_YAAAY', 'CHAAAY', 'CHOTI-YAY', 'DAAL', 'DDAAAL', 'DO-CHASHMI-HAY', 'FAAA', 'GAAF', 'GHAIN', 'HAMZA', 'HAY', 'KAF', 'KHAY', 'LAAM', 'MIM', 'NUN', 'NUN-GHUNNAH', 'PA', 'QAF', 'RAY', 'SA', 'SAAL', 'SHIN', 'SIN', 'SUAD', 'TAY', 'TAYTAY', 'TOE', 'WAO', 'ZAAL', 'ZAAY', 'ZOE', 'ZUAD']\n",
    "    images = read_image(path)\n",
    "    time.sleep(.5)\n",
    "    bt_prediction = vgg16.predict(images) \n",
    "    preds = model.predict_proba(bt_prediction)\n",
    "    for idx, classs, x in zip(range(0,6), classes , preds[0]):\n",
    "        print(\"ID: {}, Label: {} {}%\".format(idx, classs, round(x*100,2) ))\n",
    "    print('Final Decision:')\n",
    "    time.sleep(.5)\n",
    "    for x in range(3):\n",
    "        print('.'*(x+1))\n",
    "        time.sleep(.2)\n",
    "    class_predicted = model.predict_classes(bt_prediction)\n",
    "    class_dictionary = generator_top.class_indices \n",
    "    inv_map = {v: k for k, v in class_dictionary.items()} \n",
    "    print(\"ID: {}, Label: {}\".format(class_predicted[0],  inv_map[class_predicted[0]])) \n",
    "    return load_img(path)\n",
    "path = r'C:\\Users\\hafiz\\Pakistan Sign Language Project\\test_images\\22AIN_1.PNG'\n",
    "test_single_image(path)"
   ]
  },
  {
   "cell_type": "code",
   "execution_count": null,
   "id": "a9298ed4",
   "metadata": {},
   "outputs": [],
   "source": []
  }
 ],
 "metadata": {
  "kernelspec": {
   "display_name": "Python 3",
   "language": "python",
   "name": "python3"
  },
  "language_info": {
   "codemirror_mode": {
    "name": "ipython",
    "version": 3
   },
   "file_extension": ".py",
   "mimetype": "text/x-python",
   "name": "python",
   "nbconvert_exporter": "python",
   "pygments_lexer": "ipython3",
   "version": "3.8.8"
  }
 },
 "nbformat": 4,
 "nbformat_minor": 5
}
